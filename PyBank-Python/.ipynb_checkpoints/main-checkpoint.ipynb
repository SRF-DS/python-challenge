{
 "cells": [
  {
   "cell_type": "code",
   "execution_count": 13,
   "id": "b6dbd11a-129a-4df0-972d-2b99b6f1e935",
   "metadata": {},
   "outputs": [],
   "source": [
    "# Dependencies\n",
    "import os\n",
    "import csv\n",
    "import pandas as pd"
   ]
  },
  {
   "cell_type": "code",
   "execution_count": 19,
   "id": "9822e74f-7517-45b6-8eca-50ba14b35018",
   "metadata": {},
   "outputs": [],
   "source": [
    "urlpath = \"C:\\\\Users\\\\sebif\\\\Cargo_Bay\\\\python-challenge\\\\PyBank\\\\Resources\\\\\""
   ]
  },
  {
   "cell_type": "code",
   "execution_count": 21,
   "id": "a10c3cc3-f82b-4e95-be70-2b7dc793fe59",
   "metadata": {},
   "outputs": [],
   "source": [
    "# ref code original_df = pd.read_csv(urlpath+\"baton_streets.csv\")\n",
    "bank_df =  pd.read_csv(urlpath+\"budget_data.csv\")"
   ]
  },
  {
   "cell_type": "code",
   "execution_count": 25,
   "id": "45994ff4-1265-4b91-8672-87badd11901c",
   "metadata": {},
   "outputs": [
    {
     "data": {
      "text/html": [
       "<div>\n",
       "<style scoped>\n",
       "    .dataframe tbody tr th:only-of-type {\n",
       "        vertical-align: middle;\n",
       "    }\n",
       "\n",
       "    .dataframe tbody tr th {\n",
       "        vertical-align: top;\n",
       "    }\n",
       "\n",
       "    .dataframe thead th {\n",
       "        text-align: right;\n",
       "    }\n",
       "</style>\n",
       "<table border=\"1\" class=\"dataframe\">\n",
       "  <thead>\n",
       "    <tr style=\"text-align: right;\">\n",
       "      <th></th>\n",
       "      <th>Date</th>\n",
       "      <th>Profit/Losses</th>\n",
       "    </tr>\n",
       "  </thead>\n",
       "  <tbody>\n",
       "    <tr>\n",
       "      <th>0</th>\n",
       "      <td>Jan-10</td>\n",
       "      <td>1088983</td>\n",
       "    </tr>\n",
       "    <tr>\n",
       "      <th>1</th>\n",
       "      <td>Feb-10</td>\n",
       "      <td>-354534</td>\n",
       "    </tr>\n",
       "    <tr>\n",
       "      <th>2</th>\n",
       "      <td>Mar-10</td>\n",
       "      <td>276622</td>\n",
       "    </tr>\n",
       "    <tr>\n",
       "      <th>3</th>\n",
       "      <td>Apr-10</td>\n",
       "      <td>-728133</td>\n",
       "    </tr>\n",
       "    <tr>\n",
       "      <th>4</th>\n",
       "      <td>May-10</td>\n",
       "      <td>852993</td>\n",
       "    </tr>\n",
       "    <tr>\n",
       "      <th>...</th>\n",
       "      <td>...</td>\n",
       "      <td>...</td>\n",
       "    </tr>\n",
       "    <tr>\n",
       "      <th>81</th>\n",
       "      <td>Oct-16</td>\n",
       "      <td>-729004</td>\n",
       "    </tr>\n",
       "    <tr>\n",
       "      <th>82</th>\n",
       "      <td>Nov-16</td>\n",
       "      <td>-112209</td>\n",
       "    </tr>\n",
       "    <tr>\n",
       "      <th>83</th>\n",
       "      <td>Dec-16</td>\n",
       "      <td>516313</td>\n",
       "    </tr>\n",
       "    <tr>\n",
       "      <th>84</th>\n",
       "      <td>Jan-17</td>\n",
       "      <td>607208</td>\n",
       "    </tr>\n",
       "    <tr>\n",
       "      <th>85</th>\n",
       "      <td>Feb-17</td>\n",
       "      <td>382539</td>\n",
       "    </tr>\n",
       "  </tbody>\n",
       "</table>\n",
       "<p>86 rows × 2 columns</p>\n",
       "</div>"
      ],
      "text/plain": [
       "      Date  Profit/Losses\n",
       "0   Jan-10        1088983\n",
       "1   Feb-10        -354534\n",
       "2   Mar-10         276622\n",
       "3   Apr-10        -728133\n",
       "4   May-10         852993\n",
       "..     ...            ...\n",
       "81  Oct-16        -729004\n",
       "82  Nov-16        -112209\n",
       "83  Dec-16         516313\n",
       "84  Jan-17         607208\n",
       "85  Feb-17         382539\n",
       "\n",
       "[86 rows x 2 columns]"
      ]
     },
     "execution_count": 25,
     "metadata": {},
     "output_type": "execute_result"
    }
   ],
   "source": [
    "bank_df"
   ]
  },
  {
   "cell_type": "code",
   "execution_count": 33,
   "id": "803f3a31-2b34-4fca-8667-91fcd8965024",
   "metadata": {},
   "outputs": [
    {
     "data": {
      "text/plain": [
       "86"
      ]
     },
     "execution_count": 33,
     "metadata": {},
     "output_type": "execute_result"
    }
   ],
   "source": [
    "# Calculate total number of months included in the dataset\n",
    "total_months = len(bank_df)\n",
    "total_months"
   ]
  },
  {
   "cell_type": "code",
   "execution_count": 39,
   "id": "895e2a1f-3b3b-42e6-b4e2-acca5c3f7a5a",
   "metadata": {},
   "outputs": [
    {
     "data": {
      "text/plain": [
       "22564198"
      ]
     },
     "execution_count": 39,
     "metadata": {},
     "output_type": "execute_result"
    }
   ],
   "source": [
    "# Calculate the net total amount of \"Profit/Losses\" over the entire period\n",
    "net_total_pnl = bank_df['Profit/Losses'].sum()\n",
    "net_total_pnl"
   ]
  },
  {
   "cell_type": "code",
   "execution_count": 45,
   "id": "bfcf8fd9-e5ae-4854-a7ee-37b1382cbf8e",
   "metadata": {},
   "outputs": [
    {
     "data": {
      "text/html": [
       "<div>\n",
       "<style scoped>\n",
       "    .dataframe tbody tr th:only-of-type {\n",
       "        vertical-align: middle;\n",
       "    }\n",
       "\n",
       "    .dataframe tbody tr th {\n",
       "        vertical-align: top;\n",
       "    }\n",
       "\n",
       "    .dataframe thead th {\n",
       "        text-align: right;\n",
       "    }\n",
       "</style>\n",
       "<table border=\"1\" class=\"dataframe\">\n",
       "  <thead>\n",
       "    <tr style=\"text-align: right;\">\n",
       "      <th></th>\n",
       "      <th>Date</th>\n",
       "      <th>Profit/Losses</th>\n",
       "      <th>Change</th>\n",
       "    </tr>\n",
       "  </thead>\n",
       "  <tbody>\n",
       "    <tr>\n",
       "      <th>0</th>\n",
       "      <td>Jan-10</td>\n",
       "      <td>1088983</td>\n",
       "      <td>NaN</td>\n",
       "    </tr>\n",
       "    <tr>\n",
       "      <th>1</th>\n",
       "      <td>Feb-10</td>\n",
       "      <td>-354534</td>\n",
       "      <td>-1443517.0</td>\n",
       "    </tr>\n",
       "    <tr>\n",
       "      <th>2</th>\n",
       "      <td>Mar-10</td>\n",
       "      <td>276622</td>\n",
       "      <td>631156.0</td>\n",
       "    </tr>\n",
       "    <tr>\n",
       "      <th>3</th>\n",
       "      <td>Apr-10</td>\n",
       "      <td>-728133</td>\n",
       "      <td>-1004755.0</td>\n",
       "    </tr>\n",
       "    <tr>\n",
       "      <th>4</th>\n",
       "      <td>May-10</td>\n",
       "      <td>852993</td>\n",
       "      <td>1581126.0</td>\n",
       "    </tr>\n",
       "    <tr>\n",
       "      <th>...</th>\n",
       "      <td>...</td>\n",
       "      <td>...</td>\n",
       "      <td>...</td>\n",
       "    </tr>\n",
       "    <tr>\n",
       "      <th>81</th>\n",
       "      <td>Oct-16</td>\n",
       "      <td>-729004</td>\n",
       "      <td>-1627245.0</td>\n",
       "    </tr>\n",
       "    <tr>\n",
       "      <th>82</th>\n",
       "      <td>Nov-16</td>\n",
       "      <td>-112209</td>\n",
       "      <td>616795.0</td>\n",
       "    </tr>\n",
       "    <tr>\n",
       "      <th>83</th>\n",
       "      <td>Dec-16</td>\n",
       "      <td>516313</td>\n",
       "      <td>628522.0</td>\n",
       "    </tr>\n",
       "    <tr>\n",
       "      <th>84</th>\n",
       "      <td>Jan-17</td>\n",
       "      <td>607208</td>\n",
       "      <td>90895.0</td>\n",
       "    </tr>\n",
       "    <tr>\n",
       "      <th>85</th>\n",
       "      <td>Feb-17</td>\n",
       "      <td>382539</td>\n",
       "      <td>-224669.0</td>\n",
       "    </tr>\n",
       "  </tbody>\n",
       "</table>\n",
       "<p>86 rows × 3 columns</p>\n",
       "</div>"
      ],
      "text/plain": [
       "      Date  Profit/Losses     Change\n",
       "0   Jan-10        1088983        NaN\n",
       "1   Feb-10        -354534 -1443517.0\n",
       "2   Mar-10         276622   631156.0\n",
       "3   Apr-10        -728133 -1004755.0\n",
       "4   May-10         852993  1581126.0\n",
       "..     ...            ...        ...\n",
       "81  Oct-16        -729004 -1627245.0\n",
       "82  Nov-16        -112209   616795.0\n",
       "83  Dec-16         516313   628522.0\n",
       "84  Jan-17         607208    90895.0\n",
       "85  Feb-17         382539  -224669.0\n",
       "\n",
       "[86 rows x 3 columns]"
      ]
     },
     "execution_count": 45,
     "metadata": {},
     "output_type": "execute_result"
    }
   ],
   "source": [
    "#Calculate the changes in \"Profit/Losses\" over the entire period, and then the average of those changes\n",
    "#Add Column change in dataframe to see the Change over the period via each observation row\n",
    "bank_df['Change'] = bank_df['Profit/Losses'].diff()\n",
    "#Calculating Average\n",
    "average_change = bank_df['Change'].mean()\n",
    "bank_df"
   ]
  },
  {
   "cell_type": "code",
   "execution_count": 47,
   "id": "0fbbca56-6371-4ae5-813a-1c6fb5db1519",
   "metadata": {},
   "outputs": [
    {
     "data": {
      "text/plain": [
       "-8311.105882352942"
      ]
     },
     "execution_count": 47,
     "metadata": {},
     "output_type": "execute_result"
    }
   ],
   "source": [
    "average_change"
   ]
  },
  {
   "cell_type": "code",
   "execution_count": 53,
   "id": "a5450f5e-5343-4811-a4d1-b80931e7c5db",
   "metadata": {},
   "outputs": [
    {
     "name": "stdout",
     "output_type": "stream",
     "text": [
      "Aug-16 1862002.0\n"
     ]
    }
   ],
   "source": [
    "#Finds greatest increase in profits (date and amount) over the entire period\n",
    "#Finds max in newly created column Change\n",
    "greatest_increase = bank_df['Change'].max()\n",
    "greatest_increase_date = bank_df.loc[bank_df['Change'] == greatest_increase, 'Date'].iloc[0]\n",
    "print(greatest_increase_date, greatest_increase)"
   ]
  },
  {
   "cell_type": "code",
   "execution_count": 55,
   "id": "5961edba-e353-48f6-958f-04fb27fb3c1e",
   "metadata": {},
   "outputs": [
    {
     "name": "stdout",
     "output_type": "stream",
     "text": [
      "Feb-14 -1825558.0\n"
     ]
    }
   ],
   "source": [
    "#Finds greatest decrease in profits (date and amount) over the entire period\n",
    "greatest_decrease = bank_df['Change'].min()\n",
    "#Finds min in newly created column Change\n",
    "greatest_decrease_date = bank_df.loc[bank_df['Change'] == greatest_decrease, 'Date'].iloc[0]\n",
    "\n",
    "print(greatest_decrease_date, greatest_decrease)"
   ]
  },
  {
   "cell_type": "code",
   "execution_count": 59,
   "id": "c8df7e78-eac9-4a17-bade-072291fcb748",
   "metadata": {},
   "outputs": [
    {
     "name": "stdout",
     "output_type": "stream",
     "text": [
      "Financial Analysis\n",
      "----------------------------\n",
      "Total Months: 86\n",
      "Total: $22,564,198\n",
      "Average Change: $-8,311.11\n",
      "Greatest Increase in Profits: Aug-16 ($1,862,002)\n",
      "Greatest Decrease in Profits: Feb-14 ($-1,825,558)\n"
     ]
    }
   ],
   "source": [
    "#Printing the Analysis to Terminal\n",
    "print(\"Financial Analysis\")\n",
    "print(\"----------------------------\")\n",
    "print(f\"Total Months: {total_months}\")\n",
    "print(f\"Total: ${net_total_pnl:,.0f}\")\n",
    "print(f\"Average Change: ${average_change:,.2f}\")\n",
    "print(f\"Greatest Increase in Profits: {greatest_increase_date} (${greatest_increase:,.0f})\")\n",
    "print(f\"Greatest Decrease in Profits: {greatest_decrease_date} (${greatest_decrease:,.0f})\")"
   ]
  },
  {
   "cell_type": "code",
   "execution_count": 63,
   "id": "7771ba48-8d8d-4055-aef7-8077546f6925",
   "metadata": {},
   "outputs": [],
   "source": [
    "# Save the results to a text file\n",
    "output_path = os.path.join('analysis', 'financial_analysis.txt')\n",
    "with open(output_path, 'w') as file:\n",
    "    file.write(\"Financial Analysis\\n\")\n",
    "    file.write(\"----------------------------\\n\")\n",
    "    file.write(f\"Total Months: {total_months}\\n\")\n",
    "    file.write(f\"Total: ${net_total_pnl:,.0f}\\n\")\n",
    "    file.write(f\"Average Change: ${average_change:,.2f}\\n\")\n",
    "    file.write(f\"Greatest Increase in Profits: {greatest_increase_date} (${greatest_increase:,.0f})\\n\")\n",
    "    file.write(f\"Greatest Decrease in Profits: {greatest_decrease_date} (${greatest_decrease:,.0f})\\n\")"
   ]
  },
  {
   "cell_type": "code",
   "execution_count": null,
   "id": "8c7ae634-f112-4240-b686-118496ab89ff",
   "metadata": {},
   "outputs": [],
   "source": []
  }
 ],
 "metadata": {
  "kernelspec": {
   "display_name": "Python 3 (ipykernel)",
   "language": "python",
   "name": "python3"
  },
  "language_info": {
   "codemirror_mode": {
    "name": "ipython",
    "version": 3
   },
   "file_extension": ".py",
   "mimetype": "text/x-python",
   "name": "python",
   "nbconvert_exporter": "python",
   "pygments_lexer": "ipython3",
   "version": "3.12.4"
  }
 },
 "nbformat": 4,
 "nbformat_minor": 5
}
