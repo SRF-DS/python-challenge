{
 "cells": [
  {
   "cell_type": "code",
   "execution_count": 1,
   "id": "e5fcb71b-b033-4069-bdd3-13c475179a20",
   "metadata": {},
   "outputs": [],
   "source": [
    "# Dependencies\n",
    "import os\n",
    "import csv\n",
    "import pandas as pd"
   ]
  },
  {
   "cell_type": "code",
   "execution_count": 3,
   "id": "a1238c96-d7af-42f4-b9c2-412b43d5888c",
   "metadata": {},
   "outputs": [],
   "source": [
    "urlpath = \"C:\\\\Users\\\\sebif\\\\Cargo_Bay\\\\python-challenge\\\\PyPoll\\\\Resources\\\\\""
   ]
  },
  {
   "cell_type": "code",
   "execution_count": 5,
   "id": "8b29056a-0a12-4232-9b6f-aa9f82362995",
   "metadata": {},
   "outputs": [],
   "source": [
    "#ref code bank_df =  pd.read_csv(urlpath+\"budget_data.csv\")\n",
    "poll_df =  pd.read_csv(urlpath+\"election_data.csv\")"
   ]
  },
  {
   "cell_type": "code",
   "execution_count": 7,
   "id": "5fc9d9d4-ba41-41bb-b5b9-80333a491133",
   "metadata": {},
   "outputs": [
    {
     "data": {
      "text/html": [
       "<div>\n",
       "<style scoped>\n",
       "    .dataframe tbody tr th:only-of-type {\n",
       "        vertical-align: middle;\n",
       "    }\n",
       "\n",
       "    .dataframe tbody tr th {\n",
       "        vertical-align: top;\n",
       "    }\n",
       "\n",
       "    .dataframe thead th {\n",
       "        text-align: right;\n",
       "    }\n",
       "</style>\n",
       "<table border=\"1\" class=\"dataframe\">\n",
       "  <thead>\n",
       "    <tr style=\"text-align: right;\">\n",
       "      <th></th>\n",
       "      <th>Ballot ID</th>\n",
       "      <th>County</th>\n",
       "      <th>Candidate</th>\n",
       "    </tr>\n",
       "  </thead>\n",
       "  <tbody>\n",
       "    <tr>\n",
       "      <th>0</th>\n",
       "      <td>1323913</td>\n",
       "      <td>Jefferson</td>\n",
       "      <td>Charles Casper Stockham</td>\n",
       "    </tr>\n",
       "    <tr>\n",
       "      <th>1</th>\n",
       "      <td>1005842</td>\n",
       "      <td>Jefferson</td>\n",
       "      <td>Charles Casper Stockham</td>\n",
       "    </tr>\n",
       "    <tr>\n",
       "      <th>2</th>\n",
       "      <td>1880345</td>\n",
       "      <td>Jefferson</td>\n",
       "      <td>Charles Casper Stockham</td>\n",
       "    </tr>\n",
       "    <tr>\n",
       "      <th>3</th>\n",
       "      <td>1600337</td>\n",
       "      <td>Jefferson</td>\n",
       "      <td>Charles Casper Stockham</td>\n",
       "    </tr>\n",
       "    <tr>\n",
       "      <th>4</th>\n",
       "      <td>1835994</td>\n",
       "      <td>Jefferson</td>\n",
       "      <td>Charles Casper Stockham</td>\n",
       "    </tr>\n",
       "    <tr>\n",
       "      <th>...</th>\n",
       "      <td>...</td>\n",
       "      <td>...</td>\n",
       "      <td>...</td>\n",
       "    </tr>\n",
       "    <tr>\n",
       "      <th>369706</th>\n",
       "      <td>4714953</td>\n",
       "      <td>Arapahoe</td>\n",
       "      <td>Raymon Anthony Doane</td>\n",
       "    </tr>\n",
       "    <tr>\n",
       "      <th>369707</th>\n",
       "      <td>4497542</td>\n",
       "      <td>Arapahoe</td>\n",
       "      <td>Raymon Anthony Doane</td>\n",
       "    </tr>\n",
       "    <tr>\n",
       "      <th>369708</th>\n",
       "      <td>4085849</td>\n",
       "      <td>Arapahoe</td>\n",
       "      <td>Raymon Anthony Doane</td>\n",
       "    </tr>\n",
       "    <tr>\n",
       "      <th>369709</th>\n",
       "      <td>4592018</td>\n",
       "      <td>Arapahoe</td>\n",
       "      <td>Raymon Anthony Doane</td>\n",
       "    </tr>\n",
       "    <tr>\n",
       "      <th>369710</th>\n",
       "      <td>4660518</td>\n",
       "      <td>Arapahoe</td>\n",
       "      <td>Raymon Anthony Doane</td>\n",
       "    </tr>\n",
       "  </tbody>\n",
       "</table>\n",
       "<p>369711 rows × 3 columns</p>\n",
       "</div>"
      ],
      "text/plain": [
       "        Ballot ID     County                Candidate\n",
       "0         1323913  Jefferson  Charles Casper Stockham\n",
       "1         1005842  Jefferson  Charles Casper Stockham\n",
       "2         1880345  Jefferson  Charles Casper Stockham\n",
       "3         1600337  Jefferson  Charles Casper Stockham\n",
       "4         1835994  Jefferson  Charles Casper Stockham\n",
       "...           ...        ...                      ...\n",
       "369706    4714953   Arapahoe     Raymon Anthony Doane\n",
       "369707    4497542   Arapahoe     Raymon Anthony Doane\n",
       "369708    4085849   Arapahoe     Raymon Anthony Doane\n",
       "369709    4592018   Arapahoe     Raymon Anthony Doane\n",
       "369710    4660518   Arapahoe     Raymon Anthony Doane\n",
       "\n",
       "[369711 rows x 3 columns]"
      ]
     },
     "execution_count": 7,
     "metadata": {},
     "output_type": "execute_result"
    }
   ],
   "source": [
    "poll_df"
   ]
  },
  {
   "cell_type": "code",
   "execution_count": 13,
   "id": "a6d414e6-fc96-4a92-995b-13c43123b766",
   "metadata": {},
   "outputs": [
    {
     "data": {
      "text/plain": [
       "369711"
      ]
     },
     "execution_count": 13,
     "metadata": {},
     "output_type": "execute_result"
    }
   ],
   "source": [
    "total_votes = len(poll_df)\n",
    "total_votes"
   ]
  },
  {
   "cell_type": "code",
   "execution_count": 19,
   "id": "9222a3ea-6467-402e-b63c-c151c18894a2",
   "metadata": {},
   "outputs": [
    {
     "data": {
      "text/plain": [
       "array(['Charles Casper Stockham', 'Diana DeGette', 'Raymon Anthony Doane'],\n",
       "      dtype=object)"
      ]
     },
     "execution_count": 19,
     "metadata": {},
     "output_type": "execute_result"
    }
   ],
   "source": [
    "# ref code bank_df['Change'] = bank_df['Profit/Losses'].diff()\n",
    "#Create complete list of candidates who received votes\n",
    "candidates = poll_df['Candidate'].unique()\n",
    "candidates"
   ]
  },
  {
   "cell_type": "code",
   "execution_count": 43,
   "id": "d5921652-f1fc-4742-bdbc-ca019bbdd0cf",
   "metadata": {},
   "outputs": [],
   "source": [
    "#Calculate total vote won and total percentage vote won\n",
    "#ref code greatest_decrease_date = bank_df.loc[bank_df['Change'] == greatest_decrease, 'Date'].iloc[0]\n",
    "#ref code voted_for = poll_df.loc[poll_df['Candidate'] == 'Charles Casper Stockham'].count()\n",
    "#ref code vote_ratio = voted_for / total_votes\n",
    "#ref code (voted_for)\n",
    "#print(vote_ratio)\n",
    "#Generate single output per candidate name\n",
    "#candidate_name = 'Charles Casper Stockham'\n",
    "#voted_for = poll_df.loc[poll_df['Candidate'] == candidate_name, 'Ballot ID'].count()\n",
    "#vote_ratio = voted_for / total_votes\n",
    "#print(f\"Votes for {candidate_name}:\")\n",
    "#print(voted_for)\n",
    "#print(f\"\\nVote ratio for {candidate_name}:\")\n",
    "#print(f\"{vote_ratio:.6f}\")\n",
    "\n",
    "#Generate loop to create multiple output cycling through 3/3 candidates\n",
    "results = []\n",
    "for candidate in candidates:\n",
    "    voted_for = poll_df.loc[poll_df['Candidate'] == candidate, 'Ballot ID'].count()\n",
    "    vote_ratio = voted_for / total_votes\n",
    "    results.append((candidate, voted_for, vote_ratio))"
   ]
  },
  {
   "cell_type": "code",
   "execution_count": 45,
   "id": "9dc77852-d7f1-4ae2-a5c6-75c990ff0825",
   "metadata": {},
   "outputs": [],
   "source": [
    "# Determine the winner\n",
    "winner = max(results, key=lambda x: x[1])[0]"
   ]
  },
  {
   "cell_type": "code",
   "execution_count": 47,
   "id": "7f88118a-724a-4e26-a3f5-5d5c83ecca59",
   "metadata": {},
   "outputs": [
    {
     "name": "stdout",
     "output_type": "stream",
     "text": [
      "Election Results\n",
      "-------------------------\n",
      "Total Votes: 369711\n",
      "-------------------------\n",
      "Charles Casper Stockham: 23.049% (85213)\n",
      "Diana DeGette: 73.812% (272892)\n",
      "Raymon Anthony Doane: 3.139% (11606)\n",
      "-------------------------\n",
      "Winner: Diana DeGette\n",
      "-------------------------\n"
     ]
    }
   ],
   "source": [
    "# Print the analysis\n",
    "print(\"Election Results\")\n",
    "print(\"-------------------------\")\n",
    "print(f\"Total Votes: {total_votes}\")\n",
    "print(\"-------------------------\")\n",
    "for candidate, votes, ratio in results:\n",
    "    print(f\"{candidate}: {ratio:.3%} ({votes})\")\n",
    "print(\"-------------------------\")\n",
    "print(f\"Winner: {winner}\")\n",
    "print(\"-------------------------\")"
   ]
  },
  {
   "cell_type": "code",
   "execution_count": 49,
   "id": "cd488470-afb3-43e7-8263-a819aa5a3f7c",
   "metadata": {},
   "outputs": [],
   "source": [
    "# Save the results to a text file\n",
    "output_path = os.path.join('analysis', 'election_results.txt')\n",
    "with open(output_path, 'w') as file:\n",
    "    file.write(\"Election Results\\n\")\n",
    "    file.write(\"-------------------------\\n\")\n",
    "    file.write(f\"Total Votes: {total_votes}\\n\")\n",
    "    file.write(\"-------------------------\\n\")\n",
    "    for candidate, votes, ratio in results:\n",
    "        file.write(f\"{candidate}: {ratio:.3%} ({votes})\\n\")\n",
    "    file.write(\"-------------------------\\n\")\n",
    "    file.write(f\"Winner: {winner}\\n\")\n",
    "    file.write(\"-------------------------\\n\")"
   ]
  },
  {
   "cell_type": "code",
   "execution_count": null,
   "id": "f2b99bac-69eb-4997-bc6f-178831a1acf6",
   "metadata": {},
   "outputs": [],
   "source": []
  }
 ],
 "metadata": {
  "kernelspec": {
   "display_name": "Python 3 (ipykernel)",
   "language": "python",
   "name": "python3"
  },
  "language_info": {
   "codemirror_mode": {
    "name": "ipython",
    "version": 3
   },
   "file_extension": ".py",
   "mimetype": "text/x-python",
   "name": "python",
   "nbconvert_exporter": "python",
   "pygments_lexer": "ipython3",
   "version": "3.12.4"
  }
 },
 "nbformat": 4,
 "nbformat_minor": 5
}
